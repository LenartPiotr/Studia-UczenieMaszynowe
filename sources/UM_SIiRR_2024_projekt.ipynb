{
 "cells": [
  {
   "cell_type": "code",
   "execution_count": 2,
   "id": "993660ba-241c-4db6-a68a-9ea8bce90e9e",
   "metadata": {},
   "outputs": [],
   "source": [
    "import numpy as np\n",
    "import matplotlib.pyplot as plt\n",
    "import sklearn"
   ]
  },
  {
   "cell_type": "code",
   "execution_count": 59,
   "id": "bc27cecd-6731-48bb-9543-81e58ce842b3",
   "metadata": {},
   "outputs": [],
   "source": [
    "from sklearn.datasets import load_breast_cancer\n",
    "from sklearn.preprocessing import minmax_scale\n",
    "from sklearn.ensemble import IsolationForest\n",
    "from sklearn.impute import SimpleImputer"
   ]
  },
  {
   "cell_type": "code",
   "execution_count": 20,
   "id": "c9cf9a72-f003-43ff-8701-439518cf85e9",
   "metadata": {},
   "outputs": [],
   "source": [
    "x, y = sklearn.datasets.load_breast_cancer(return_X_y=True)"
   ]
  },
  {
   "cell_type": "code",
   "execution_count": 22,
   "id": "4fc32b93-9204-409d-8982-917465ddedb2",
   "metadata": {},
   "outputs": [
    {
     "data": {
      "text/plain": [
       "array([[1.799e+01, 1.038e+01, 1.228e+02, ..., 2.654e-01, 4.601e-01,\n",
       "        1.189e-01],\n",
       "       [2.057e+01, 1.777e+01, 1.329e+02, ..., 1.860e-01, 2.750e-01,\n",
       "        8.902e-02],\n",
       "       [1.969e+01, 2.125e+01, 1.300e+02, ..., 2.430e-01, 3.613e-01,\n",
       "        8.758e-02],\n",
       "       ...,\n",
       "       [1.660e+01, 2.808e+01, 1.083e+02, ..., 1.418e-01, 2.218e-01,\n",
       "        7.820e-02],\n",
       "       [2.060e+01, 2.933e+01, 1.401e+02, ..., 2.650e-01, 4.087e-01,\n",
       "        1.240e-01],\n",
       "       [7.760e+00, 2.454e+01, 4.792e+01, ..., 0.000e+00, 2.871e-01,\n",
       "        7.039e-02]])"
      ]
     },
     "execution_count": 22,
     "metadata": {},
     "output_type": "execute_result"
    }
   ],
   "source": [
    "x"
   ]
  },
  {
   "cell_type": "markdown",
   "id": "6f55b3fa-f4a5-43e2-b76c-d9c1e46e0c6f",
   "metadata": {},
   "source": [
    "## PREPROCESSING"
   ]
  },
  {
   "cell_type": "code",
   "execution_count": 23,
   "id": "3c72759c-b978-466a-aba1-81818766a338",
   "metadata": {},
   "outputs": [],
   "source": [
    "x_norm = minmax_scale(x, axis=0)"
   ]
  },
  {
   "cell_type": "code",
   "execution_count": 26,
   "id": "c141edc4-dee6-45c9-9b5c-c71c8bd805fe",
   "metadata": {},
   "outputs": [
    {
     "data": {
      "text/plain": [
       "array([0.73111332, 0.34875746, 0.63568588, 0.52286282, 0.51838966,\n",
       "       0.40203777, 0.36779324, 0.29746521, 0.46486083, 0.42460239,\n",
       "       0.16515905, 0.32833002, 0.555666  , 0.2666004 , 0.39885686,\n",
       "       0.36600398, 0.26138171, 0.51093439, 0.47206759, 0.23762425,\n",
       "       0.15457256, 0.10318091, 0.48489066, 0.42902584, 0.45576541,\n",
       "       0.69632207, 0.43653082, 0.38424453, 0.43494036, 0.39527833,\n",
       "       0.61829026, 0.25755467, 0.59791252, 0.37738569, 0.38528827,\n",
       "       0.29910537, 0.27823062, 0.14527833, 0.14408549, 0.27032803,\n",
       "       0.10094433, 0.28175944, 0.49507952, 0.30606362, 0.2610338 ,\n",
       "       0.50149105, 0.02940855, 0.36481113, 0.13663022, 0.16819085,\n",
       "       0.0554175 , 0.08563618, 0.06704771, 0.52683897, 0.16570577,\n",
       "       0.11322068, 0.44701789, 0.40372763, 0.02071074, 0.03876243,\n",
       "       0.06411531, 0.04601889, 0.43006958, 0.1083499 , 0.3416004 ,\n",
       "       0.44875746, 0.07475149, 0.11083499, 0.21744533, 0.14234592,\n",
       "       0.39517893, 0.14274354, 0.39483101, 0.25193837, 0.11292247,\n",
       "       0.32992048, 0.32584493, 0.53677932, 0.7972167 , 0.11505964,\n",
       "       0.1109841 , 0.3472664 , 0.91699801, 0.73011928, 0.09259443,\n",
       "       0.43712724, 0.24542744, 0.4110835 , 0.1861332 , 0.35109344,\n",
       "       0.14696819, 0.37191849, 0.13161034, 0.13817097, 0.43812127,\n",
       "       0.43156064, 0.14617296, 0.03944831, 0.16650099, 0.29020875,\n",
       "       0.22311133, 0.        , 0.08797217, 0.15054672, 0.05969185,\n",
       "       0.47718688, 0.17321074, 0.09547714, 0.90606362, 0.0943837 ,\n",
       "       0.08836978, 0.29925447, 0.38757455, 0.15248509, 0.09562624,\n",
       "       0.09980119, 0.11471173, 0.44348907, 0.47112326, 0.27813121,\n",
       "       0.13036779, 0.430666  , 1.        , 0.28717694, 0.13916501,\n",
       "       0.05670974, 0.15333002, 0.27967197, 0.42415507, 0.57107356,\n",
       "       0.14324056, 0.40193837, 0.27897614, 0.29488072, 0.34030815,\n",
       "       0.13439364, 0.12922465, 0.14289264, 0.42862823, 0.23836978,\n",
       "       0.        , 0.29537773, 0.09249503, 0.15347913, 0.03914016,\n",
       "       0.14925447, 0.36853877, 0.17703777, 0.2749503 , 0.06605368,\n",
       "       0.13146123, 0.10775348, 0.39050696, 0.0887674 , 0.17311133,\n",
       "       0.11585487, 0.52385686, 0.13772366, 0.09756461, 0.03274354,\n",
       "       0.18578529, 0.4804672 , 0.63916501, 0.14025845, 0.48220676,\n",
       "       0.09637177, 0.08439364, 0.32683897, 0.51838966, 0.18792247,\n",
       "       0.18389662, 0.17087475, 0.54522863, 0.12837972, 0.        ,\n",
       "       0.        , 0.18469185, 0.44065606, 0.00920477, 0.06610338,\n",
       "       0.9333996 , 0.74353877, 0.25790258, 0.11734592, 0.16217694,\n",
       "       0.01194831, 0.2889662 , 0.1609841 , 0.07718688, 0.08220676,\n",
       "       0.32892644, 0.14234592, 0.        , 0.22673956, 0.44125249,\n",
       "       0.11814115, 0.32435388, 0.28717694, 0.33658052, 0.2972167 ,\n",
       "       0.20412525, 0.372167  , 0.80516899, 0.45606362, 0.18991054,\n",
       "       0.2027336 , 0.09701789, 0.26789264, 0.25357853, 0.15690855,\n",
       "       0.47519881, 0.06923459, 0.79274354, 0.3278827 , 0.32117296,\n",
       "       0.27842942, 0.15616302, 0.05323062, 0.43195825, 0.32987078,\n",
       "       0.12738569, 0.22122266, 0.09517893, 0.32117296, 0.12206759,\n",
       "       0.22877734, 0.06043738, 0.18787276, 0.10119284, 0.34100398,\n",
       "       0.5417495 , 0.01553181, 0.03197813, 0.41451292, 0.08285288,\n",
       "       0.09423459, 0.61481113, 0.29930417, 0.21908549, 0.43792247,\n",
       "       0.18543738, 0.05506958, 0.14184891, 0.11650099, 0.4416501 ,\n",
       "       0.15258449, 0.05492048, 0.19781312, 0.08026839, 0.14557654,\n",
       "       0.65109344, 0.102833  , 0.48409543, 0.41515905, 0.42698807,\n",
       "       0.26073559, 0.56858847, 0.61729622, 0.68439364, 0.41744533,\n",
       "       0.4638668 , 0.14100398, 0.37311133, 0.14150099, 0.32440358,\n",
       "       0.42972167, 0.13131213, 0.10646123, 0.08026839, 0.14249503,\n",
       "       0.03106362, 0.13692843, 0.54075547, 0.06993042, 0.23578529,\n",
       "       0.36799205, 0.01656561, 0.29040755, 0.06153082, 0.18444334,\n",
       "       0.48031809, 0.13732604, 0.47037773, 0.4499006 , 0.16848907,\n",
       "       0.0145328 , 0.18841948, 0.0582008 , 0.2777336 , 0.10800199,\n",
       "       0.32813121, 0.23951292, 0.16749503, 0.11332008, 0.09562624,\n",
       "       0.09527833, 0.06804175, 0.17470179, 0.06829026, 0.09319085,\n",
       "       0.527833  , 0.15402584, 0.6361829 , 0.08846918, 0.07465209,\n",
       "       0.06525845, 0.01620775, 0.01725646, 0.02196322, 0.04388171,\n",
       "       0.05705765, 0.09329026, 0.12664016, 0.04426938, 0.        ,\n",
       "       0.03192346, 0.02510437, 0.39512922, 0.24393638, 0.08444334,\n",
       "       0.19706759, 0.38399602, 0.16898608, 0.74751491, 0.08409543,\n",
       "       0.10472167, 0.13583499, 0.02779324, 0.42186879, 0.39666998,\n",
       "       0.3499503 , 0.14662028, 0.03768887, 0.0146173 , 0.04242048,\n",
       "       0.49373757, 0.10427435, 0.3026839 , 0.08822068, 0.70079523,\n",
       "       0.20989066, 0.1139165 , 0.16605368, 0.54821074, 0.16153082,\n",
       "       0.10124254, 0.04218688, 0.17534791, 0.11540755, 0.0888171 ,\n",
       "       0.05775348, 0.61729622, 0.95079523, 0.32569583, 0.07311133,\n",
       "       0.21824056, 0.27847913, 0.10377734, 0.11833996, 0.06988072,\n",
       "       0.0270825 , 0.12047714, 0.08851889, 0.24030815, 0.07321074,\n",
       "       0.38692843, 0.62872763, 0.10074553, 0.42072565, 0.74602386,\n",
       "       0.4360338 , 0.13205765, 0.62375746, 0.4443837 , 0.10094433,\n",
       "       0.26824056, 0.29527833, 0.0555169 , 0.12281312, 0.31645129,\n",
       "       0.27584493, 0.10308151, 0.14801193, 0.14314115, 0.14234592,\n",
       "       0.26197813, 0.12594433, 0.04228131, 0.13702783, 0.50745527,\n",
       "       0.09781312, 0.        , 0.45293241, 0.77634195, 0.16530815,\n",
       "       0.16158052, 0.26744533, 0.20293241, 0.03601392, 0.08141153,\n",
       "       0.59542744, 0.08926441, 0.09358847, 0.11878728, 0.10208748,\n",
       "       0.14572565, 0.2250497 , 0.09279324, 0.43856859, 0.13185885,\n",
       "       0.10437376, 0.12326044, 0.02548708, 0.19264414, 0.1361332 ,\n",
       "       0.1083002 , 0.06247515, 0.42152087, 0.1193837 , 0.05347913,\n",
       "       0.07097416, 0.31312127, 0.22350895, 0.23916501, 0.09776342,\n",
       "       0.02564115, 0.11023857, 0.06978131, 0.06809145, 0.09120278,\n",
       "       0.48265408, 0.13911531, 0.62574553, 0.43459245, 0.14299205,\n",
       "       0.32122266, 0.10387674, 0.14632207, 0.1139662 , 0.13180915,\n",
       "       0.17957256, 0.28508946, 0.04938867, 0.05521869, 0.31083499,\n",
       "       0.21242545, 0.41217694, 0.11232604, 0.14537773, 0.57405567,\n",
       "       0.11858847, 0.45044732, 0.09666998, 0.32281312, 0.11292247,\n",
       "       0.16222664, 0.10024851, 0.1027833 , 0.08757455, 0.05183897,\n",
       "       0.31963221, 0.83946322, 0.08633201, 0.08832008, 0.14264414,\n",
       "       0.14080517, 0.17445328, 0.02867296, 0.49801193, 0.27654076,\n",
       "       0.07524851, 0.11814115, 0.16008946, 0.        , 0.07808151,\n",
       "       0.15298211, 0.15198807, 0.0665507 , 0.09786282, 0.45695825,\n",
       "       0.07589463, 0.1028827 , 0.26172962, 0.15705765, 0.30869781,\n",
       "       0.24085487, 0.13871769, 0.59343936, 0.155666  , 0.11466203,\n",
       "       0.06267396, 0.20765408, 0.38578529, 0.05710736, 0.06242545,\n",
       "       0.24607356, 0.25218688, 0.11774354, 0.45641153, 0.55715706,\n",
       "       0.30526839, 0.33593439, 0.16297217, 0.49850895, 0.2610338 ,\n",
       "       0.34980119, 0.10765408, 0.21212724, 0.22678926, 0.42345924,\n",
       "       0.13116302, 0.12629225, 0.40616302, 0.21615308, 0.21545726,\n",
       "       0.12892644, 0.46973161, 0.46873757, 0.26356859, 0.14885686,\n",
       "       0.12032803, 0.73111332, 0.02815109, 0.18802187, 0.12007952,\n",
       "       0.0750497 , 0.15666004, 0.13156064, 0.32877734, 0.13906561,\n",
       "       0.22067594, 0.10720676, 0.09343936, 0.50447316, 0.13856859,\n",
       "       0.65705765, 0.30511928, 0.22519881, 0.        , 0.06779324,\n",
       "       0.12892644, 0.19333996, 0.15044732, 0.16277336, 0.11774354,\n",
       "       0.12142147, 0.02731113, 0.12117296, 0.04778827, 0.04055666,\n",
       "       0.        , 0.11217694, 0.07450298, 0.06371769, 0.11645129,\n",
       "       0.1360835 , 0.0554672 , 0.        , 0.18568588, 0.20402584,\n",
       "       0.2139165 , 0.        , 0.46863817, 0.73260437, 0.69035785,\n",
       "       0.48663022, 0.26351889, 0.7554672 , 0.        ])"
      ]
     },
     "execution_count": 26,
     "metadata": {},
     "output_type": "execute_result"
    }
   ],
   "source": [
    "x_norm[:,7]"
   ]
  },
  {
   "cell_type": "code",
   "execution_count": 27,
   "id": "2aa000c7-4b49-43aa-a222-362ab1904aa7",
   "metadata": {},
   "outputs": [
    {
     "data": {
      "text/plain": [
       "{'whiskers': [<matplotlib.lines.Line2D at 0x16fdb997a30>,\n",
       "  <matplotlib.lines.Line2D at 0x16fdb997d00>,\n",
       "  <matplotlib.lines.Line2D at 0x16fdaeef310>,\n",
       "  <matplotlib.lines.Line2D at 0x16fdaeef610>,\n",
       "  <matplotlib.lines.Line2D at 0x16fdaefebb0>,\n",
       "  <matplotlib.lines.Line2D at 0x16fdaefef40>,\n",
       "  <matplotlib.lines.Line2D at 0x16fdaf66520>,\n",
       "  <matplotlib.lines.Line2D at 0x16fdaf668b0>,\n",
       "  <matplotlib.lines.Line2D at 0x16fdaf83e50>,\n",
       "  <matplotlib.lines.Line2D at 0x16fdb01d220>,\n",
       "  <matplotlib.lines.Line2D at 0x16fdb0367c0>,\n",
       "  <matplotlib.lines.Line2D at 0x16fdb036b50>,\n",
       "  <matplotlib.lines.Line2D at 0x16fdb124130>,\n",
       "  <matplotlib.lines.Line2D at 0x16fdb1244c0>,\n",
       "  <matplotlib.lines.Line2D at 0x16fdb134a60>,\n",
       "  <matplotlib.lines.Line2D at 0x16fdb134df0>,\n",
       "  <matplotlib.lines.Line2D at 0x16fdb0a53d0>,\n",
       "  <matplotlib.lines.Line2D at 0x16fdb0a5760>,\n",
       "  <matplotlib.lines.Line2D at 0x16fdb0c0d00>,\n",
       "  <matplotlib.lines.Line2D at 0x16fdb0950d0>,\n",
       "  <matplotlib.lines.Line2D at 0x16fdb0f3670>,\n",
       "  <matplotlib.lines.Line2D at 0x16fdb0f3a00>,\n",
       "  <matplotlib.lines.Line2D at 0x16fdb108fa0>,\n",
       "  <matplotlib.lines.Line2D at 0x16fdb257370>,\n",
       "  <matplotlib.lines.Line2D at 0x16fdb27a910>,\n",
       "  <matplotlib.lines.Line2D at 0x16fdb27aca0>,\n",
       "  <matplotlib.lines.Line2D at 0x16fdb167280>,\n",
       "  <matplotlib.lines.Line2D at 0x16fdb167610>,\n",
       "  <matplotlib.lines.Line2D at 0x16fdb17cbb0>,\n",
       "  <matplotlib.lines.Line2D at 0x16fdb17cf40>,\n",
       "  <matplotlib.lines.Line2D at 0x16fdb1ee520>,\n",
       "  <matplotlib.lines.Line2D at 0x16fdb1ee8b0>,\n",
       "  <matplotlib.lines.Line2D at 0x16fdb1fee50>,\n",
       "  <matplotlib.lines.Line2D at 0x16fdb21e220>,\n",
       "  <matplotlib.lines.Line2D at 0x16fdb22d7c0>,\n",
       "  <matplotlib.lines.Line2D at 0x16fdb22db80>,\n",
       "  <matplotlib.lines.Line2D at 0x16fdabfceb0>,\n",
       "  <matplotlib.lines.Line2D at 0x16fdabf8f70>,\n",
       "  <matplotlib.lines.Line2D at 0x16fdb398610>,\n",
       "  <matplotlib.lines.Line2D at 0x16fdb1cca90>,\n",
       "  <matplotlib.lines.Line2D at 0x16fdb1bb5b0>,\n",
       "  <matplotlib.lines.Line2D at 0x16fdb1bbb80>,\n",
       "  <matplotlib.lines.Line2D at 0x16fdb1a7ca0>,\n",
       "  <matplotlib.lines.Line2D at 0x16fdb1a7c70>,\n",
       "  <matplotlib.lines.Line2D at 0x16fdb192ac0>,\n",
       "  <matplotlib.lines.Line2D at 0x16fdb192430>,\n",
       "  <matplotlib.lines.Line2D at 0x16fdb854ca0>,\n",
       "  <matplotlib.lines.Line2D at 0x16fdb854760>,\n",
       "  <matplotlib.lines.Line2D at 0x16fdae1d370>,\n",
       "  <matplotlib.lines.Line2D at 0x16fdad8b580>,\n",
       "  <matplotlib.lines.Line2D at 0x16fa9b0bdc0>,\n",
       "  <matplotlib.lines.Line2D at 0x16fdb24cfd0>,\n",
       "  <matplotlib.lines.Line2D at 0x16fdb3865b0>,\n",
       "  <matplotlib.lines.Line2D at 0x16fdb386940>,\n",
       "  <matplotlib.lines.Line2D at 0x16fdb3dcee0>,\n",
       "  <matplotlib.lines.Line2D at 0x16fdb3f42b0>,\n",
       "  <matplotlib.lines.Line2D at 0x16fdb410850>,\n",
       "  <matplotlib.lines.Line2D at 0x16fdb410be0>,\n",
       "  <matplotlib.lines.Line2D at 0x16fdb43b1c0>,\n",
       "  <matplotlib.lines.Line2D at 0x16fdb43b550>],\n",
       " 'caps': [<matplotlib.lines.Line2D at 0x16fdbb540d0>,\n",
       "  <matplotlib.lines.Line2D at 0x16fdbb54460>,\n",
       "  <matplotlib.lines.Line2D at 0x16fdaeef9a0>,\n",
       "  <matplotlib.lines.Line2D at 0x16fdaeefd30>,\n",
       "  <matplotlib.lines.Line2D at 0x16fdaf58310>,\n",
       "  <matplotlib.lines.Line2D at 0x16fdaf586a0>,\n",
       "  <matplotlib.lines.Line2D at 0x16fdaf66c40>,\n",
       "  <matplotlib.lines.Line2D at 0x16fdaf66fd0>,\n",
       "  <matplotlib.lines.Line2D at 0x16fdb01d5b0>,\n",
       "  <matplotlib.lines.Line2D at 0x16fdb01d940>,\n",
       "  <matplotlib.lines.Line2D at 0x16fdb036ee0>,\n",
       "  <matplotlib.lines.Line2D at 0x16fdb04c2b0>,\n",
       "  <matplotlib.lines.Line2D at 0x16fdb124850>,\n",
       "  <matplotlib.lines.Line2D at 0x16fdb124be0>,\n",
       "  <matplotlib.lines.Line2D at 0x16fdb0921c0>,\n",
       "  <matplotlib.lines.Line2D at 0x16fdb092550>,\n",
       "  <matplotlib.lines.Line2D at 0x16fdb0a5af0>,\n",
       "  <matplotlib.lines.Line2D at 0x16fdb0a5e80>,\n",
       "  <matplotlib.lines.Line2D at 0x16fdb095460>,\n",
       "  <matplotlib.lines.Line2D at 0x16fdb0957f0>,\n",
       "  <matplotlib.lines.Line2D at 0x16fdb0f3d90>,\n",
       "  <matplotlib.lines.Line2D at 0x16fdb108160>,\n",
       "  <matplotlib.lines.Line2D at 0x16fdb257700>,\n",
       "  <matplotlib.lines.Line2D at 0x16fdb257a90>,\n",
       "  <matplotlib.lines.Line2D at 0x16fdb28f070>,\n",
       "  <matplotlib.lines.Line2D at 0x16fdb28f400>,\n",
       "  <matplotlib.lines.Line2D at 0x16fdb1679a0>,\n",
       "  <matplotlib.lines.Line2D at 0x16fdb167d30>,\n",
       "  <matplotlib.lines.Line2D at 0x16fdb1d0310>,\n",
       "  <matplotlib.lines.Line2D at 0x16fdb1d06a0>,\n",
       "  <matplotlib.lines.Line2D at 0x16fdb1eec40>,\n",
       "  <matplotlib.lines.Line2D at 0x16fdb1eefd0>,\n",
       "  <matplotlib.lines.Line2D at 0x16fdb21e5b0>,\n",
       "  <matplotlib.lines.Line2D at 0x16fdb21e940>,\n",
       "  <matplotlib.lines.Line2D at 0x16fdb22df10>,\n",
       "  <matplotlib.lines.Line2D at 0x16fdb24c2e0>,\n",
       "  <matplotlib.lines.Line2D at 0x16fdac03d30>,\n",
       "  <matplotlib.lines.Line2D at 0x16fd8c9f190>,\n",
       "  <matplotlib.lines.Line2D at 0x16fdb1cad90>,\n",
       "  <matplotlib.lines.Line2D at 0x16fdb1ca5b0>,\n",
       "  <matplotlib.lines.Line2D at 0x16fdb1bb880>,\n",
       "  <matplotlib.lines.Line2D at 0x16fdb85af70>,\n",
       "  <matplotlib.lines.Line2D at 0x16fdb1a75b0>,\n",
       "  <matplotlib.lines.Line2D at 0x16fdb19ffa0>,\n",
       "  <matplotlib.lines.Line2D at 0x16fdb1b0b80>,\n",
       "  <matplotlib.lines.Line2D at 0x16fdb1b0490>,\n",
       "  <matplotlib.lines.Line2D at 0x16fdb061700>,\n",
       "  <matplotlib.lines.Line2D at 0x16fdb061430>,\n",
       "  <matplotlib.lines.Line2D at 0x16fdac1d7f0>,\n",
       "  <matplotlib.lines.Line2D at 0x16fdad7d340>,\n",
       "  <matplotlib.lines.Line2D at 0x16fdb3693a0>,\n",
       "  <matplotlib.lines.Line2D at 0x16fdb369730>,\n",
       "  <matplotlib.lines.Line2D at 0x16fdb386cd0>,\n",
       "  <matplotlib.lines.Line2D at 0x16fdb3dc0a0>,\n",
       "  <matplotlib.lines.Line2D at 0x16fdb3f4640>,\n",
       "  <matplotlib.lines.Line2D at 0x16fdb3f49d0>,\n",
       "  <matplotlib.lines.Line2D at 0x16fdb410f70>,\n",
       "  <matplotlib.lines.Line2D at 0x16fdb423340>,\n",
       "  <matplotlib.lines.Line2D at 0x16fdb43b8e0>,\n",
       "  <matplotlib.lines.Line2D at 0x16fdb43bc70>],\n",
       " 'boxes': [<matplotlib.lines.Line2D at 0x16fdb997700>,\n",
       "  <matplotlib.lines.Line2D at 0x16fdbb54f40>,\n",
       "  <matplotlib.lines.Line2D at 0x16fdaefe820>,\n",
       "  <matplotlib.lines.Line2D at 0x16fdaf66190>,\n",
       "  <matplotlib.lines.Line2D at 0x16fdaf83ac0>,\n",
       "  <matplotlib.lines.Line2D at 0x16fdb036430>,\n",
       "  <matplotlib.lines.Line2D at 0x16fdb04cd60>,\n",
       "  <matplotlib.lines.Line2D at 0x16fdb1346d0>,\n",
       "  <matplotlib.lines.Line2D at 0x16fdb0a5040>,\n",
       "  <matplotlib.lines.Line2D at 0x16fdb0c0970>,\n",
       "  <matplotlib.lines.Line2D at 0x16fdb0f32e0>,\n",
       "  <matplotlib.lines.Line2D at 0x16fdb108c10>,\n",
       "  <matplotlib.lines.Line2D at 0x16fdb27a580>,\n",
       "  <matplotlib.lines.Line2D at 0x16fdb28feb0>,\n",
       "  <matplotlib.lines.Line2D at 0x16fdb17c820>,\n",
       "  <matplotlib.lines.Line2D at 0x16fdb1ee190>,\n",
       "  <matplotlib.lines.Line2D at 0x16fdb1feac0>,\n",
       "  <matplotlib.lines.Line2D at 0x16fdb22d430>,\n",
       "  <matplotlib.lines.Line2D at 0x16fdb24cd90>,\n",
       "  <matplotlib.lines.Line2D at 0x16fdad78fa0>,\n",
       "  <matplotlib.lines.Line2D at 0x16fdb1b66a0>,\n",
       "  <matplotlib.lines.Line2D at 0x16fdb85a1f0>,\n",
       "  <matplotlib.lines.Line2D at 0x16fdb1928e0>,\n",
       "  <matplotlib.lines.Line2D at 0x16fdb858580>,\n",
       "  <matplotlib.lines.Line2D at 0x16fdae1dd00>,\n",
       "  <matplotlib.lines.Line2D at 0x16fdae08e20>,\n",
       "  <matplotlib.lines.Line2D at 0x16fdb386220>,\n",
       "  <matplotlib.lines.Line2D at 0x16fdb3dcb50>,\n",
       "  <matplotlib.lines.Line2D at 0x16fdb4104c0>,\n",
       "  <matplotlib.lines.Line2D at 0x16fdb423df0>],\n",
       " 'medians': [<matplotlib.lines.Line2D at 0x16fdbb547f0>,\n",
       "  <matplotlib.lines.Line2D at 0x16fdaefe100>,\n",
       "  <matplotlib.lines.Line2D at 0x16fdaf58a30>,\n",
       "  <matplotlib.lines.Line2D at 0x16fdaf833a0>,\n",
       "  <matplotlib.lines.Line2D at 0x16fdb01dcd0>,\n",
       "  <matplotlib.lines.Line2D at 0x16fdb04c640>,\n",
       "  <matplotlib.lines.Line2D at 0x16fdb124f70>,\n",
       "  <matplotlib.lines.Line2D at 0x16fdb0928e0>,\n",
       "  <matplotlib.lines.Line2D at 0x16fdb0c0250>,\n",
       "  <matplotlib.lines.Line2D at 0x16fdb095b80>,\n",
       "  <matplotlib.lines.Line2D at 0x16fdb1084f0>,\n",
       "  <matplotlib.lines.Line2D at 0x16fdb257e20>,\n",
       "  <matplotlib.lines.Line2D at 0x16fdb28f790>,\n",
       "  <matplotlib.lines.Line2D at 0x16fdb17c100>,\n",
       "  <matplotlib.lines.Line2D at 0x16fdb1d0a30>,\n",
       "  <matplotlib.lines.Line2D at 0x16fdb1fe3a0>,\n",
       "  <matplotlib.lines.Line2D at 0x16fdb21ecd0>,\n",
       "  <matplotlib.lines.Line2D at 0x16fdb24c670>,\n",
       "  <matplotlib.lines.Line2D at 0x16fdac00df0>,\n",
       "  <matplotlib.lines.Line2D at 0x16fdb1bddc0>,\n",
       "  <matplotlib.lines.Line2D at 0x16fdb85adc0>,\n",
       "  <matplotlib.lines.Line2D at 0x16fdb19f4f0>,\n",
       "  <matplotlib.lines.Line2D at 0x16fdb1b00d0>,\n",
       "  <matplotlib.lines.Line2D at 0x16fdb3b09d0>,\n",
       "  <matplotlib.lines.Line2D at 0x16fdae03ee0>,\n",
       "  <matplotlib.lines.Line2D at 0x16fdb369ac0>,\n",
       "  <matplotlib.lines.Line2D at 0x16fdb3dc430>,\n",
       "  <matplotlib.lines.Line2D at 0x16fdb3f4d60>,\n",
       "  <matplotlib.lines.Line2D at 0x16fdb4236d0>,\n",
       "  <matplotlib.lines.Line2D at 0x16fdb492040>],\n",
       " 'fliers': [<matplotlib.lines.Line2D at 0x16fdbb54b80>,\n",
       "  <matplotlib.lines.Line2D at 0x16fdaefe490>,\n",
       "  <matplotlib.lines.Line2D at 0x16fdaf58dc0>,\n",
       "  <matplotlib.lines.Line2D at 0x16fdaf83730>,\n",
       "  <matplotlib.lines.Line2D at 0x16fdb0360a0>,\n",
       "  <matplotlib.lines.Line2D at 0x16fdb04c9d0>,\n",
       "  <matplotlib.lines.Line2D at 0x16fdb134340>,\n",
       "  <matplotlib.lines.Line2D at 0x16fdb092c70>,\n",
       "  <matplotlib.lines.Line2D at 0x16fdb0c05e0>,\n",
       "  <matplotlib.lines.Line2D at 0x16fdb095f10>,\n",
       "  <matplotlib.lines.Line2D at 0x16fdb108880>,\n",
       "  <matplotlib.lines.Line2D at 0x16fdb27a1f0>,\n",
       "  <matplotlib.lines.Line2D at 0x16fdb28fb20>,\n",
       "  <matplotlib.lines.Line2D at 0x16fdb17c490>,\n",
       "  <matplotlib.lines.Line2D at 0x16fdb1d0dc0>,\n",
       "  <matplotlib.lines.Line2D at 0x16fdb1fe730>,\n",
       "  <matplotlib.lines.Line2D at 0x16fdb22d0a0>,\n",
       "  <matplotlib.lines.Line2D at 0x16fdb24ca00>,\n",
       "  <matplotlib.lines.Line2D at 0x16fdae16880>,\n",
       "  <matplotlib.lines.Line2D at 0x16fdb1b65b0>,\n",
       "  <matplotlib.lines.Line2D at 0x16fdb85a5b0>,\n",
       "  <matplotlib.lines.Line2D at 0x16fdb192e20>,\n",
       "  <matplotlib.lines.Line2D at 0x16fdb858e20>,\n",
       "  <matplotlib.lines.Line2D at 0x16fdae1d460>,\n",
       "  <matplotlib.lines.Line2D at 0x16fdae08dc0>,\n",
       "  <matplotlib.lines.Line2D at 0x16fdb369e50>,\n",
       "  <matplotlib.lines.Line2D at 0x16fdb3dc7c0>,\n",
       "  <matplotlib.lines.Line2D at 0x16fdb410130>,\n",
       "  <matplotlib.lines.Line2D at 0x16fdb423a60>,\n",
       "  <matplotlib.lines.Line2D at 0x16fdb4923d0>],\n",
       " 'means': []}"
      ]
     },
     "execution_count": 27,
     "metadata": {},
     "output_type": "execute_result"
    },
    {
     "data": {
      "image/png": "[encoded data removed]",
      "text/plain": [
       "<Figure size 432x288 with 1 Axes>"
      ]
     },
     "metadata": {
      "needs_background": "light"
     },
     "output_type": "display_data"
    }
   ],
   "source": [
    "plt.boxplot(x_norm)"
   ]
  },
  {
   "cell_type": "code",
   "execution_count": 35,
   "id": "9e019a13-7c07-4a54-a21f-cb8f4afcfa1e",
   "metadata": {},
   "outputs": [
    {
     "data": {
      "text/plain": [
       "{'whiskers': [<matplotlib.lines.Line2D at 0x16fdb653ee0>,\n",
       "  <matplotlib.lines.Line2D at 0x16fdb65e2b0>],\n",
       " 'caps': [<matplotlib.lines.Line2D at 0x16fdb65e640>,\n",
       "  <matplotlib.lines.Line2D at 0x16fdb65e9d0>],\n",
       " 'boxes': [<matplotlib.lines.Line2D at 0x16fdb653b50>],\n",
       " 'medians': [<matplotlib.lines.Line2D at 0x16fdb65ed60>],\n",
       " 'fliers': [<matplotlib.lines.Line2D at 0x16fdb669130>],\n",
       " 'means': []}"
      ]
     },
     "execution_count": 35,
     "metadata": {},
     "output_type": "execute_result"
    },
    {
     "data": {
      "image/png": "[encoded data removed]",
      "text/plain": [
       "<Figure size 432x288 with 1 Axes>"
      ]
     },
     "metadata": {
      "needs_background": "light"
     },
     "output_type": "display_data"
    }
   ],
   "source": [
    "plt.boxplot(x_norm[:,3])"
   ]
  },
  {
   "cell_type": "code",
   "execution_count": 36,
   "id": "2eded931-191a-4a81-b7e6-722594376785",
   "metadata": {},
   "outputs": [
    {
     "data": {
      "text/plain": [
       "0.2169200864011391"
      ]
     },
     "execution_count": 36,
     "metadata": {},
     "output_type": "execute_result"
    }
   ],
   "source": [
    "np.mean(x_norm[:,3])"
   ]
  },
  {
   "cell_type": "code",
   "execution_count": 37,
   "id": "54918a36-b5d5-4776-94c2-647c7c85c0df",
   "metadata": {},
   "outputs": [
    {
     "data": {
      "text/plain": [
       "0.17289501590668083"
      ]
     },
     "execution_count": 37,
     "metadata": {},
     "output_type": "execute_result"
    }
   ],
   "source": [
    "np.median(x_norm[:,3])"
   ]
  },
  {
   "cell_type": "code",
   "execution_count": 39,
   "id": "c58f14a8-e708-44f4-b4ab-ded45a12d213",
   "metadata": {},
   "outputs": [],
   "source": [
    "IF = IsolationForest(n_estimators=100, max_samples='auto', contamination='auto')"
   ]
  },
  {
   "cell_type": "code",
   "execution_count": 40,
   "id": "2ec4fb06-a270-431d-a4be-c43cb82dc510",
   "metadata": {},
   "outputs": [
    {
     "data": {
      "text/plain": [
       "IsolationForest()"
      ]
     },
     "execution_count": 40,
     "metadata": {},
     "output_type": "execute_result"
    }
   ],
   "source": [
    "IF.fit(x_norm)"
   ]
  },
  {
   "cell_type": "code",
   "execution_count": 42,
   "id": "5d55c10c-1462-4e71-8382-e19384ca0fff",
   "metadata": {},
   "outputs": [],
   "source": [
    "outliers = x_norm[IF.predict(x_norm)==-1]"
   ]
  },
  {
   "cell_type": "code",
   "execution_count": 44,
   "id": "60898ccf-1edc-4815-b3d9-28141fe28355",
   "metadata": {},
   "outputs": [],
   "source": [
    "x_norm_wo = x_norm[IF.predict(x_norm)==1]"
   ]
  },
  {
   "cell_type": "code",
   "execution_count": 45,
   "id": "8619e8d7-ba32-4db6-8ae6-964b9b11bb09",
   "metadata": {},
   "outputs": [
    {
     "data": {
      "text/plain": [
       "{'whiskers': [<matplotlib.lines.Line2D at 0x16fde052430>,\n",
       "  <matplotlib.lines.Line2D at 0x16fde0527c0>],\n",
       " 'caps': [<matplotlib.lines.Line2D at 0x16fde052b50>,\n",
       "  <matplotlib.lines.Line2D at 0x16fde052f10>],\n",
       " 'boxes': [<matplotlib.lines.Line2D at 0x16fde0521c0>],\n",
       " 'medians': [<matplotlib.lines.Line2D at 0x16fde0592e0>],\n",
       " 'fliers': [<matplotlib.lines.Line2D at 0x16fde059670>],\n",
       " 'means': []}"
      ]
     },
     "execution_count": 45,
     "metadata": {},
     "output_type": "execute_result"
    },
    {
     "data": {
      "image/png": "[encoded data removed]",
      "text/plain": [
       "<Figure size 432x288 with 1 Axes>"
      ]
     },
     "metadata": {
      "needs_background": "light"
     },
     "output_type": "display_data"
    }
   ],
   "source": [
    "plt.boxplot(x_norm_wo[:,3])"
   ]
  },
  {
   "cell_type": "code",
   "execution_count": 49,
   "id": "76ce673f-e546-43c9-9454-4f341349b7af",
   "metadata": {},
   "outputs": [
    {
     "data": {
      "text/plain": [
       "0.01590668080593849"
      ]
     },
     "execution_count": 49,
     "metadata": {},
     "output_type": "execute_result"
    }
   ],
   "source": [
    "np.min(x_norm_wo[:,3])"
   ]
  },
  {
   "cell_type": "code",
   "execution_count": 51,
   "id": "f54e89c9-1279-4bc8-b631-4019e690726a",
   "metadata": {},
   "outputs": [],
   "source": [
    "r = np.random.random(x_norm_wo.shape)"
   ]
  },
  {
   "cell_type": "code",
   "execution_count": 57,
   "id": "8285d3de-d7eb-4a52-ab0e-a3b0c79f6e41",
   "metadata": {},
   "outputs": [],
   "source": [
    "x_norm_wo_wnans = np.where(r < 0.15, np.NaN, x_norm_wo)"
   ]
  },
  {
   "cell_type": "code",
   "execution_count": 58,
   "id": "2b821309-6f71-4090-bde8-52a3905228f6",
   "metadata": {},
   "outputs": [
    {
     "data": {
      "text/plain": [
       "array([[0.64314449, 0.27257355, 0.61578329, ..., 0.63917526, 0.23358959,\n",
       "        0.22287813],\n",
       "       [0.60149557, 0.3902604 , 0.59574321, ..., 0.83505155, 0.40370589,\n",
       "        0.21343303],\n",
       "       [0.62989256, 0.15657761, 0.63098611, ..., 0.55841924, 0.15750049,\n",
       "               nan],\n",
       "       ...,\n",
       "       [0.62232003, 0.62698681, 0.60403566, ..., 0.55945017, 0.19850187,\n",
       "        0.07431457],\n",
       "       [0.45525108, 0.62123774,        nan, ..., 0.48728522, 0.12872068,\n",
       "        0.1519087 ],\n",
       "       [0.03686876, 0.50152181,        nan, ..., 0.        , 0.25744136,\n",
       "        0.10068215]])"
      ]
     },
     "execution_count": 58,
     "metadata": {},
     "output_type": "execute_result"
    }
   ],
   "source": [
    "x_norm_wo_wnans"
   ]
  },
  {
   "cell_type": "code",
   "execution_count": 60,
   "id": "935cc711-2c47-40a9-b280-ba619ef84429",
   "metadata": {},
   "outputs": [],
   "source": [
    "simp = SimpleImputer(strategy='mean')"
   ]
  },
  {
   "cell_type": "code",
   "execution_count": 61,
   "id": "54b2bfbc-c5b4-4abe-be91-32b2af8a25cf",
   "metadata": {},
   "outputs": [
    {
     "data": {
      "text/plain": [
       "SimpleImputer()"
      ]
     },
     "execution_count": 61,
     "metadata": {},
     "output_type": "execute_result"
    }
   ],
   "source": [
    "simp.fit(x_norm_wo_wnans)"
   ]
  },
  {
   "cell_type": "code",
   "execution_count": 64,
   "id": "65b3cd92-95cd-4a0f-a95d-21e87a00ed79",
   "metadata": {},
   "outputs": [],
   "source": [
    "x_norm_wo_2 = simp.transform(x_norm_wo_wnans)"
   ]
  },
  {
   "cell_type": "code",
   "execution_count": 65,
   "id": "aed99bb5-1b92-4b0b-9dcd-8abd06f36930",
   "metadata": {},
   "outputs": [
    {
     "data": {
      "text/plain": [
       "array([[ 0.        ,  0.        ,  0.        , ...,  0.        ,\n",
       "         0.        ,  0.        ],\n",
       "       [ 0.        ,  0.        ,  0.        , ...,  0.        ,\n",
       "         0.        ,  0.        ],\n",
       "       [ 0.        ,  0.        ,  0.        , ...,  0.        ,\n",
       "         0.        , -0.03486975],\n",
       "       ...,\n",
       "       [ 0.        ,  0.        ,  0.        , ...,  0.        ,\n",
       "         0.        ,  0.        ],\n",
       "       [ 0.        ,  0.        ,  0.12455013, ...,  0.        ,\n",
       "         0.        ,  0.        ],\n",
       "       [ 0.        ,  0.        , -0.29269816, ...,  0.        ,\n",
       "         0.        ,  0.        ]])"
      ]
     },
     "execution_count": 65,
     "metadata": {},
     "output_type": "execute_result"
    }
   ],
   "source": [
    "x_norm_wo - x_norm_wo_2"
   ]
  },
  {
   "cell_type": "code",
   "execution_count": null,
   "id": "ec5f8e01-3c80-4963-bcf5-96cd29351350",
   "metadata": {},
   "outputs": [],
   "source": []
  }
 ],
 "metadata": {
  "kernelspec": {
   "display_name": "Python 3 (ipykernel)",
   "language": "python",
   "name": "python3"
  },
  "language_info": {
   "codemirror_mode": {
    "name": "ipython",
    "version": 3
   },
   "file_extension": ".py",
   "mimetype": "text/x-python",
   "name": "python",
   "nbconvert_exporter": "python",
   "pygments_lexer": "ipython3",
   "version": "3.9.7"
  }
 },
 "nbformat": 4,
 "nbformat_minor": 5
}
